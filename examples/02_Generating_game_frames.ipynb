{
 "cells": [
  {
   "cell_type": "markdown",
   "metadata": {},
   "source": [
    "# Generating Game Frames\n",
    "#### Last Updated: June 18, 2020\n",
    "\n",
    "While the `DemoParser` functionality detailed in [the first parsing notebook](https://github.com/pnxenopoulos/csgo/blob/master/examples/00_Parsing_a_CSGO_demofile.ipynb) allows us to extract game events, sometimes we may want to create a _snapshot_ of the game. These snapshots are often useful for tasks found in many other sports, such as modeling win probability. To that end, we provide the ability for users to create game frames via the `FrameParser` class. This class allows a user to parse a demofile into an XML file that details the game frame-by-frame."
   ]
  },
  {
   "cell_type": "code",
   "execution_count": 4,
   "metadata": {},
   "outputs": [
    {
     "name": "stderr",
     "output_type": "stream",
     "text": [
      "14:47:33 [INFO] Initialized CSGODemoParser with demofile astralis-vs-liquid-m1-inferno.dem\n",
      "14:47:33 [INFO] Starting CSGO Golang demofile parser, reading in /home/peter/Downloads/astralis-vs-liquid-m1-inferno.dem\n",
      "14:47:33 [INFO] Running Golang frame parser from /home/peter/.pyenv/versions/3.8.3/lib/python3.8/site-packages/csgo-0.1-py3.8.egg/csgo/parser/\n",
      "14:47:41 [INFO] Demofile parsing complete, output written to astralis-vs-liquid-m1-inferno.dem.xml\n",
      "14:47:41 [INFO] Cleaned the round XML to remove noisy rounds\n"
     ]
    }
   ],
   "source": [
    "from csgo.parser import FrameParser\n",
    "\n",
    "# Create parser object\n",
    "# Set log=True above if you want to produce a logfile for the parser\n",
    "demo_frame_parser = FrameParser(demofile = \"astralis-vs-liquid-m1-inferno.dem\", match_id = \"astralis-vs-liquid-m1-inferno\")\n",
    "\n",
    "# Parse the demofile, output results match_id.xml\n",
    "demo_frame_parser.parse()"
   ]
  },
  {
   "cell_type": "markdown",
   "metadata": {},
   "source": [
    "We can see that the results of the parser generated a file called `astralis-vs-liquid-m1-inferno.xml`, which is an XML file. It produces output that looks like\n",
    "\n",
    "```\n",
    "<game map=\"de_inferno\"> \n",
    "    <round startTick=\"13300\" tScore=\"1\" ctScore=\"0\"> \n",
    "        <frame tick=\"17111\"> \n",
    "            <team side=\"CT\" name=\"Astralis\" eqVal=\"9950\" startEqVal=\"9450\"> \n",
    "                <player id=\"76561198010511021\" name=\"gla1ve\" hp=\"100\" armor=\"0\" eqVal=\"1700\" hasDefuse=\"false\" hasHelmet=\"false\" posX=\"873.636658\" posY=\"2355.267578\" posZ=\"145.947067\" areaName=\"BombsiteB\" areaId=\"839\" /> \n",
    "                <player id=\"76561197987713664\" name=\"device\" hp=\"100\" armor=\"100\" eqVal=\"1950\" hasDefuse=\"false\" hasHelmet=\"false\" posX=\"1342.682495\" posY=\"379.024872\" posZ=\"193.266129\" areaName=\"TopofMid\" areaId=\"31\" /> \n",
    "                <player id=\"76561197990682262\" name=\"Xyp9x\" hp=\"100\" armor=\"100\" eqVal=\"2350\" hasDefuse=\"false\" hasHelmet=\"false\" posX=\"804.069702\" posY=\"2579.278076\" posZ=\"137.012466\" areaName=\"BombsiteB\" areaId=\"22\" /> \n",
    "                <player id=\"76561197983956651\" name=\"Magisk\" hp=\"100\" armor=\"100\" eqVal=\"1950\" hasDefuse=\"false\" hasHelmet=\"false\" posX=\"765.746460\" posY=\"2371.418945\" posZ=\"135.299591\" areaName=\"BombsiteB\" areaId=\"65\" /> \n",
    "                <player id=\"76561198004854956\" name=\"dupreeh\" hp=\"100\" armor=\"100\" eqVal=\"2000\" hasDefuse=\"false\" hasHelmet=\"true\" posX=\"2059.964111\" posY=\"368.045471\" posZ=\"160.031250\" areaName=\"BombsiteA\" areaId=\"3129\" /> \n",
    "                </team> \n",
    "            <team side=\"T\" name=\"Team Liquid\" eqVal=\"21400\" startEqVal=\"21400\"> \n",
    "                <player id=\"76561198001151695\" name=\"NAF\" hp=\"100\" armor=\"100\" eqVal=\"3500\" hasDefuse=\"false\" hasHelmet=\"true\" posX=\"-662.248047\" posY=\"642.678528\" posZ=\"-32.567047\" areaName=\"LowerMid\" areaId=\"19\" /> \n",
    "                <player id=\"76561198016255205\" name=\"Twistzz\" hp=\"100\" armor=\"100\" eqVal=\"4650\" hasDefuse=\"false\" hasHelmet=\"true\" posX=\"-50.165848\" posY=\"266.914917\" posZ=\"184.031250\" areaName=\"Kitchen\" areaId=\"3040\" /> \n",
    "                <player id=\"76561198066693739\" name=\"EliGE\" hp=\"100\" armor=\"100\" eqVal=\"4500\" hasDefuse=\"false\" hasHelmet=\"true\" posX=\"-400.904694\" posY=\"878.399780\" posZ=\"-30.071808\" areaName=\"TRamp\" areaId=\"326\" /> \n",
    "                <player id=\"76561197999004010\" name=\"Stewie2K\" hp=\"100\" armor=\"100\" eqVal=\"5000\" hasDefuse=\"false\" hasHelmet=\"true\" posX=\"70.198570\" posY=\"945.686523\" posZ=\"75.703178\" areaName=\"Banana\" areaId=\"1235\" /> \n",
    "                <player id=\"76561197995889730\" name=\"nitr0\" hp=\"100\" armor=\"100\" eqVal=\"3750\" hasDefuse=\"false\" hasHelmet=\"true\" posX=\"192.956375\" posY=\"-187.925110\" posZ=\"92.955658\" areaName=\"SecondMid\" areaId=\"453\" /> \n",
    "            </team> \n",
    "        </frame>\n",
    "...\n",
    "    </round>\n",
    "</game>\n",
    "```"
   ]
  }
 ],
 "metadata": {
  "kernelspec": {
   "display_name": "Python 3",
   "language": "python",
   "name": "python3"
  },
  "language_info": {
   "codemirror_mode": {
    "name": "ipython",
    "version": 3
   },
   "file_extension": ".py",
   "mimetype": "text/x-python",
   "name": "python",
   "nbconvert_exporter": "python",
   "pygments_lexer": "ipython3",
   "version": "3.8.3"
  }
 },
 "nbformat": 4,
 "nbformat_minor": 4
}
